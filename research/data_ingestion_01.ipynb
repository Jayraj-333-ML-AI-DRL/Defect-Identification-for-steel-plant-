{
 "cells": [
  {
   "cell_type": "code",
   "execution_count": 1,
   "metadata": {},
   "outputs": [],
   "source": [
    "import os,sys"
   ]
  },
  {
   "cell_type": "code",
   "execution_count": 2,
   "metadata": {},
   "outputs": [],
   "source": [
    "from dataclasses import dataclass\n",
    "from pathlib import Path "
   ]
  },
  {
   "cell_type": "code",
   "execution_count": 3,
   "metadata": {},
   "outputs": [
    {
     "data": {
      "text/plain": [
       "'d:\\\\Projects_2024\\\\Automated damage detection system\\\\research'"
      ]
     },
     "execution_count": 3,
     "metadata": {},
     "output_type": "execute_result"
    }
   ],
   "source": [
    "%pwd"
   ]
  },
  {
   "cell_type": "code",
   "execution_count": 4,
   "metadata": {},
   "outputs": [],
   "source": [
    "os.chdir(\"../\")"
   ]
  },
  {
   "cell_type": "code",
   "execution_count": 5,
   "metadata": {},
   "outputs": [
    {
     "data": {
      "text/plain": [
       "'d:\\\\Projects_2024\\\\Automated damage detection system'"
      ]
     },
     "execution_count": 5,
     "metadata": {},
     "output_type": "execute_result"
    }
   ],
   "source": [
    "%pwd"
   ]
  },
  {
   "cell_type": "code",
   "execution_count": null,
   "metadata": {},
   "outputs": [],
   "source": []
  },
  {
   "cell_type": "code",
   "execution_count": null,
   "metadata": {},
   "outputs": [],
   "source": []
  },
  {
   "cell_type": "code",
   "execution_count": 6,
   "metadata": {},
   "outputs": [],
   "source": [
    "from dataclasses import dataclass\n",
    "from pathlib  import Path\n",
    "\n",
    "\n",
    "@dataclass(frozen=True)\n",
    "class DataIngestionConfig:\n",
    "    root_dir: Path\n",
    "    source_URL: str\n",
    "    local_data_file: Path\n",
    "    unzip_dir: Path"
   ]
  },
  {
   "cell_type": "code",
   "execution_count": 7,
   "metadata": {},
   "outputs": [],
   "source": [
    "\n",
    "from src.cnnClassifier.constants import *\n",
    "from src.cnnClassifier.utils.common import *\n",
    "\n",
    "class ConfigManager():\n",
    "    def __init__(self, \n",
    "                 config_path= CONFIG_PATH,\n",
    "                 params_path = PARAMS_PATH):\n",
    "        \n",
    "        self.config = read_yaml(CONFIG_PATH)\n",
    "        self.params = read_yaml(params_path)\n",
    "    \n",
    "    \n",
    "        create_directories([self.config.artifacts_root])\n",
    "    \n",
    "    \n",
    "    def get_data_ingestion_config(self)->DataIngestionConfig:\n",
    "        config = self.config.data_ingestion\n",
    "        \n",
    "        return DataIngestionConfig(root_dir=Path(config.root_dir),\n",
    "                                   source_URL=config.source_URL,\n",
    "                                   local_data_file=config.local_data_file,\n",
    "                                   unzip_dir=config.unzip_dir)\n",
    "    \n",
    "    "
   ]
  },
  {
   "cell_type": "code",
   "execution_count": 10,
   "metadata": {},
   "outputs": [],
   "source": [
    "import os\n",
    "import gdown\n",
    "from pathlib import Path\n",
    "import zipfile\n",
    "\n",
    "\n",
    "class DataIngestion():\n",
    "    def  __init__(self, config: DataIngestionConfig):\n",
    "        self.config = config\n",
    "        \n",
    "    def get_data(self):\n",
    "            try:\n",
    "                dataset_url = self.config.source_URL\n",
    "                zip_download_dir = self.config.local_data_file\n",
    "                os.makedirs(\"artifacts/data_ingestion\", exist_ok=True)  \n",
    "                logger.info(f\"Downloading data from {dataset_url} into file {zip_download_dir}\")\n",
    "\n",
    "                file_id = dataset_url.split(\"/\")[-2]\n",
    "                prefix = 'https://drive.google.com/uc?/export=download&id='\n",
    "                gdown.download(prefix+file_id,zip_download_dir)\n",
    "\n",
    "                logger.info(f\"Downloaded data from {dataset_url} into file {zip_download_dir}\")\n",
    "                \n",
    "            except  Exception as e:\n",
    "                raise e\n",
    "        \n",
    "    def extract_zip_file(self):\n",
    "            \"\"\"\n",
    "            zip_file_path: str\n",
    "            Extracts the zip file into the data directory\n",
    "            Function returns None\n",
    "            \"\"\"\n",
    "            unzip_path = self.config.unzip_dir\n",
    "            os.makedirs(unzip_path, exist_ok=True)\n",
    "            with zipfile.ZipFile(self.config.local_data_file, 'r') as zip_ref:\n",
    "                zip_ref.extractall(unzip_path)\n",
    "    \n",
    "    \n",
    "    "
   ]
  },
  {
   "cell_type": "code",
   "execution_count": 11,
   "metadata": {},
   "outputs": [
    {
     "name": "stdout",
     "output_type": "stream",
     "text": [
      "[2024-03-11 19:34:08,236: INFO: common:yaml file: config\\config.yaml loaded successfully]\n",
      "[2024-03-11 19:34:08,241: INFO: common:yaml file: params.yaml loaded successfully]\n",
      "[2024-03-11 19:34:08,243: INFO: common:created directory at: artifacts]\n",
      "[2024-03-11 19:34:08,246: INFO: 2265956801:Downloading data from https://drive.google.com/file/d/1h4dseU4UxX6I3zbtGwZY6Ntf2RpkBwYk/view?usp=sharing into file artifacts/data_ingestion/data.zip]\n"
     ]
    },
    {
     "name": "stderr",
     "output_type": "stream",
     "text": [
      "Downloading...\n",
      "From (original): https://drive.google.com/uc?/export=download&id=1h4dseU4UxX6I3zbtGwZY6Ntf2RpkBwYk\n",
      "From (redirected): https://drive.usercontent.google.com/download?id=1h4dseU4UxX6I3zbtGwZY6Ntf2RpkBwYk&confirm=t&uuid=398ba5c2-9df7-45ef-ba73-b1278856bcae\n",
      "To: d:\\Projects_2024\\Automated damage detection system\\artifacts\\data_ingestion\\data.zip\n",
      "100%|██████████| 49.3M/49.3M [00:06<00:00, 7.27MB/s]"
     ]
    },
    {
     "name": "stdout",
     "output_type": "stream",
     "text": [
      "[2024-03-11 19:34:16,102: INFO: 2265956801:Downloaded data from https://drive.google.com/file/d/1h4dseU4UxX6I3zbtGwZY6Ntf2RpkBwYk/view?usp=sharing into file artifacts/data_ingestion/data.zip]\n"
     ]
    },
    {
     "name": "stderr",
     "output_type": "stream",
     "text": [
      "\n"
     ]
    }
   ],
   "source": [
    "#pipline \n",
    "\n",
    "config = ConfigManager()\n",
    "Data_ingestion_config = config.get_data_ingestion_config()\n",
    "dataingestion = DataIngestion(Data_ingestion_config)\n",
    "dataingestion.get_data()\n",
    "dataingestion.extract_zip_file()\n"
   ]
  }
 ],
 "metadata": {
  "kernelspec": {
   "display_name": "Python 3",
   "language": "python",
   "name": "python3"
  },
  "language_info": {
   "codemirror_mode": {
    "name": "ipython",
    "version": 3
   },
   "file_extension": ".py",
   "mimetype": "text/x-python",
   "name": "python",
   "nbconvert_exporter": "python",
   "pygments_lexer": "ipython3",
   "version": "3.9.0"
  }
 },
 "nbformat": 4,
 "nbformat_minor": 2
}
